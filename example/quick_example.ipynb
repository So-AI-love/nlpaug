{
  "nbformat": 4,
  "nbformat_minor": 0,
  "metadata": {
    "kernelspec": {
      "display_name": "nlpaug_dev",
      "language": "python",
      "name": "nlpaug_dev"
    },
    "language_info": {
      "codemirror_mode": {
        "name": "ipython",
        "version": 3
      },
      "file_extension": ".py",
      "mimetype": "text/x-python",
      "name": "python",
      "nbconvert_exporter": "python",
      "pygments_lexer": "ipython3",
      "version": "3.8.5"
    },
    "colab": {
      "name": "quick_example.ipynb",
      "provenance": [],
      "include_colab_link": true
    }
  },
  "cells": [
    {
      "cell_type": "markdown",
      "metadata": {
        "id": "view-in-github",
        "colab_type": "text"
      },
      "source": [
        "<a href=\"https://colab.research.google.com/github/So-AI-love/nlpaug/blob/master/example/quick_example.ipynb\" target=\"_parent\"><img src=\"https://colab.research.google.com/assets/colab-badge.svg\" alt=\"Open In Colab\"/></a>"
      ]
    },
    {
      "cell_type": "code",
      "metadata": {
        "id": "6UxevSg8vhAg",
        "outputId": "93d6792a-877a-40e8-dd4c-c1f2a71ead12",
        "colab": {
          "base_uri": "https://localhost:8080/"
        }
      },
      "source": [
        "!pip install nlpaug"
      ],
      "execution_count": 4,
      "outputs": [
        {
          "output_type": "stream",
          "text": [
            "Requirement already satisfied: nlpaug in /usr/local/lib/python3.7/dist-packages (1.1.3)\n"
          ],
          "name": "stdout"
        }
      ]
    },
    {
      "cell_type": "code",
      "metadata": {
        "id": "wCup3MYEuWG_"
      },
      "source": [
        "import nlpaug.augmenter.char as nac\n",
        "import nlpaug.augmenter.word as naw\n",
        "import nlpaug.augmenter.sentence as nas"
      ],
      "execution_count": 5,
      "outputs": []
    },
    {
      "cell_type": "code",
      "metadata": {
        "id": "gHLPDdBGuWHE",
        "outputId": "63781999-8a0e-4cb5-ac90-c2df10adc6d2",
        "colab": {
          "base_uri": "https://localhost:8080/"
        }
      },
      "source": [
        "text = 'The quick brown fox jumps over the lazy dog .'\n",
        "print(text)"
      ],
      "execution_count": 6,
      "outputs": [
        {
          "output_type": "stream",
          "text": [
            "The quick brown fox jumps over the lazy dog .\n"
          ],
          "name": "stdout"
        }
      ]
    },
    {
      "cell_type": "markdown",
      "metadata": {
        "id": "KbjMcV_UuWHG"
      },
      "source": [
        "# 1 Input and 1 Output\n",
        "Use augment function"
      ]
    },
    {
      "cell_type": "code",
      "metadata": {
        "id": "zO17qAbLuWHH",
        "outputId": "75d051ad-64e8-4d3b-af37-bbfce7c38bd3",
        "colab": {
          "base_uri": "https://localhost:8080/"
        }
      },
      "source": [
        "aug = nac.KeyboardAug()\n",
        "augmented_text = aug.augment(text)\n",
        "print(\"Original:\")\n",
        "print(text)\n",
        "print(\"Augmented Text:\")\n",
        "print(augmented_text)"
      ],
      "execution_count": 7,
      "outputs": [
        {
          "output_type": "stream",
          "text": [
            "Original:\n",
            "The quick brown fox jumps over the lazy dog .\n",
            "Augmented Text:\n",
            "The quicu browj fox jumps over the iazy dog.\n"
          ],
          "name": "stdout"
        }
      ]
    },
    {
      "cell_type": "markdown",
      "metadata": {
        "id": "J-PDXET4uWHJ"
      },
      "source": [
        "# 1 Input and N Output\n",
        "Use augment function with n parameter"
      ]
    },
    {
      "cell_type": "code",
      "metadata": {
        "id": "yfwirDrluWHJ",
        "outputId": "92fb65d8-d05f-43f6-d0cb-06d6a81ae6a3",
        "colab": {
          "base_uri": "https://localhost:8080/"
        }
      },
      "source": [
        "aug = nac.KeyboardAug()\n",
        "augmented_text = aug.augment(text, n=2)\n",
        "print(\"Original:\")\n",
        "print(text)\n",
        "print(\"Augmented Text:\")\n",
        "print(augmented_text)"
      ],
      "execution_count": 8,
      "outputs": [
        {
          "output_type": "stream",
          "text": [
            "Original:\n",
            "The quick brown fox jumps over the lazy dog .\n",
            "Augmented Text:\n",
            "['The quicu grown fox jum(s over the lazy dog.', 'The q tick brown fox jumps ov$r the kazy dog.']\n"
          ],
          "name": "stdout"
        }
      ]
    },
    {
      "cell_type": "markdown",
      "metadata": {
        "id": "P0YWecljuWHK"
      },
      "source": [
        "# N Input and N Output\n",
        "Use augments function"
      ]
    },
    {
      "cell_type": "code",
      "metadata": {
        "id": "mCOXuNmbuWHL"
      },
      "source": [
        "texts = [\n",
        "    'The quick brown fox jumps over the lazy dog .',\n",
        "    'It is proved that augmentation is one of the anchor to success of computer vision model.'\n",
        "]"
      ],
      "execution_count": 9,
      "outputs": []
    },
    {
      "cell_type": "code",
      "metadata": {
        "id": "6NtEIiWLuWHM",
        "outputId": "c9e04a64-3e2a-4b97-d0b1-7aa389456f06",
        "colab": {
          "base_uri": "https://localhost:8080/"
        }
      },
      "source": [
        "aug = nac.KeyboardAug()\n",
        "augmented_text = aug.augment(texts)\n",
        "print(\"Original:\")\n",
        "print(texts)\n",
        "print(\"Augmented Text:\")\n",
        "print(augmented_text)"
      ],
      "execution_count": 10,
      "outputs": [
        {
          "output_type": "stream",
          "text": [
            "Original:\n",
            "['The quick brown fox jumps over the lazy dog .', 'It is proved that augmentation is one of the anchor to success of computer vision model.']\n",
            "Augmented Text:\n",
            "['The quick briwn fox jumps oGer the .azy dog.', 'It is proved tJat augmeMHatioj is one of the anchor to sIcc#ss of conp&ter vision mLdel.']\n"
          ],
          "name": "stdout"
        }
      ]
    },
    {
      "cell_type": "code",
      "metadata": {
        "id": "LfPZEvyJuWHN"
      },
      "source": [
        ""
      ],
      "execution_count": 10,
      "outputs": []
    }
  ]
}